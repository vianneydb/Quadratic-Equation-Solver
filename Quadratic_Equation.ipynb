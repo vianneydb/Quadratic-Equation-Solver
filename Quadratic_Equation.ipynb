{
 "cells": [
  {
   "cell_type": "markdown",
   "id": "85748c7f-4701-4fc2-bdb7-f88f361ab314",
   "metadata": {},
   "source": [
    "# NuSTEAM/NuPUMAS 2025\n"
   ]
  },
  {
   "cell_type": "markdown",
   "id": "b3c8a083-54b9-4842-80f4-0da112f7562a",
   "metadata": {},
   "source": [
    "## Calculate the solution of a quadratic equation"
   ]
  },
  {
   "cell_type": "code",
   "execution_count": 21,
   "id": "d5d52865-1f55-43b5-b17b-19fd10e1e7d8",
   "metadata": {},
   "outputs": [
    {
     "name": "stdout",
     "output_type": "stream",
     "text": [
      "This program calculate the solution to the Quadratic Equation: \n",
      "\tax^2 + bx + c = 0\n",
      "\n",
      "Equation to solve\n",
      "(3.5550e+00)x^2 + (9.3900e+00)x + (1.1000e-04) = 0\n",
      "\n",
      "The solution is REAL and equal to:\n",
      "\tx1 = (-1.1715e-05)\n",
      "\tx2 = (-2.6413e+00)\n",
      "\n",
      "You have finish using the quadratic Equation Program\n",
      "The program is now closing...\n"
     ]
    }
   ],
   "source": [
    "# Welcome message\n",
    "print(\"This program calculate the solution to the Quadratic Equation: \\n\\tax^2 + bx + c = 0\")\n",
    "\n",
    "#Input parameters\n",
    "a = float(input(\"Input the value for a: \"))\n",
    "b = float(input(\"Input the value for b: \"))\n",
    "c = float(input(\"Input the value for c: \"))\n",
    "\n",
    "#Show equation\n",
    "print(\"\\nEquation to solve\")\n",
    "print(f\"({a:.4e})x^2 + ({b:.4e})x + ({c:.4e}) = 0\\n\")\n",
    "\n",
    "#Check if is real or imagianry\n",
    "check = (b**2) - (4*a*c) # Discriminant\n",
    "\n",
    "if check > 0:\n",
    "    print(\"The solution is REAL and equal to:\")\n",
    "    #Computing real solution\n",
    "    sol1 = (-b + (b**2 - (4*a*c))**(0.5))/(2*a)\n",
    "    sol2 = (-b - (b**2 - (4*a*c))**(0.5))/(2*a)\n",
    "\n",
    "    #Print real solution\n",
    "    print(f\"\\tx1 = ({sol1:.4e})\")\n",
    "    print(f\"\\tx2 = ({sol2:.4e})\")\n",
    "    \n",
    "else:\n",
    "    print(\"The solution is IMAGINARY and equal to:\")\n",
    "    #Computing imaginary solution\n",
    "    sol_real1 = ((-b + (b**2 - (4*a*c))**(0.5))/(2*a)).real\n",
    "    sol_real2 = ((-b - (b**2 - (4*a*c))**(0.5))/(2*a)).real    \n",
    "    sol_imaginary = ((b**2 - (4*a*c))**(0.5))/(2*a)\n",
    "\n",
    "    #Print imaginary solution\n",
    "    print(f\"\\tx1 = ({sol_real1:.4e}) + i({sol_imaginary:.4e})\")\n",
    "    print(f\"\\tx2 = ({sol_real2:.4e}) - i({sol_imaginary:.4e})\")\n",
    "\n",
    "# Bye message\n",
    "print(\"\\nYou have finish using the quadratic Equation Program\\nThe program is now closing...\")"
   ]
  },
  {
   "cell_type": "markdown",
   "id": "ba67f3a4-0316-4c88-87f2-b6a2f4d446b9",
   "metadata": {},
   "source": [
    "## Version 2 - Loops"
   ]
  },
  {
   "cell_type": "code",
   "execution_count": 9,
   "id": "c9fa85c5-9b3e-421d-96fc-e19ac95b1a26",
   "metadata": {},
   "outputs": [
    {
     "name": "stdout",
     "output_type": "stream",
     "text": [
      "This program calculate the solution to the Quadratic Equation: \n",
      " ax^2 + bx + c = 0\n"
     ]
    },
    {
     "name": "stdin",
     "output_type": "stream",
     "text": [
      "\n",
      "Input the value for a:  1\n",
      "Input the value for b:  2\n",
      "Input the value for c:  3\n"
     ]
    },
    {
     "name": "stdout",
     "output_type": "stream",
     "text": [
      "\n",
      "Equation to solve\n",
      "(1.0000e+00)x^2 + (2.0000e+00)x + (3.0000e+00) = 0\n",
      "\n",
      "The solution is IMAGINARY and equal to:\n",
      "x1 = (-1.0000e+00) + i(8.6596e-17+1.4142e+00j)\n",
      "x2 = (-1.0000e+00) + i(8.6596e-17+1.4142e+00j)\n"
     ]
    },
    {
     "name": "stdin",
     "output_type": "stream",
     "text": [
      "\n",
      "Do you want to solve another equation?\n",
      "(1) Yes\n",
      "(2) No\n",
      " 1\n",
      "\n",
      "Input the value for a:  2\n",
      "Input the value for b:  3\n",
      "Input the value for c:  4\n"
     ]
    },
    {
     "name": "stdout",
     "output_type": "stream",
     "text": [
      "\n",
      "Equation to solve\n",
      "(2.0000e+00)x^2 + (3.0000e+00)x + (4.0000e+00) = 0\n",
      "\n",
      "The solution is IMAGINARY and equal to:\n",
      "x1 = (-7.5000e-01) + i(7.3415e-17+1.1990e+00j)\n",
      "x2 = (-7.5000e-01) + i(7.3415e-17+1.1990e+00j)\n"
     ]
    },
    {
     "name": "stdin",
     "output_type": "stream",
     "text": [
      "\n",
      "Do you want to solve another equation?\n",
      "(1) Yes\n",
      "(2) No\n",
      " 2\n"
     ]
    },
    {
     "name": "stdout",
     "output_type": "stream",
     "text": [
      "\n",
      "You have finish using the quadratic Equation Program\n",
      "The program is now closing...\n"
     ]
    }
   ],
   "source": [
    "# Welcome message\n",
    "print(\"This program calculate the solution to the Quadratic Equation: \\n\\tax^2 + bx + c = 0\")\n",
    "loop = 1\n",
    "\n",
    "while (loop==1):\n",
    "    #Input parameters\n",
    "    a = float(input(\"\\nInput the value for a: \"))\n",
    "    b = float(input(\"Input the value for b: \"))\n",
    "    c = float(input(\"Input the value for c: \"))\n",
    "    \n",
    "    #Show equation\n",
    "    print(\"\\nEquation to solve\")\n",
    "    print(f\"({a:.4e})x^2 + ({b:.4e})x + ({c:.4e}) = 0\\n\")\n",
    "    \n",
    "    #Check if is real or imagianry\n",
    "    check = (b**2) - (4*a*c) #Discriminant\n",
    "    \n",
    "    if check > 0:\n",
    "        print(\"The solution is REAL and equal to:\")\n",
    "        #Computing real solution\n",
    "        sol1 = (-b + (b**2 - (4*a*c))**(0.5))/(2*a)\n",
    "        sol2 = (-b - (b**2 - (4*a*c))**(0.5))/(2*a)\n",
    "    \n",
    "        #Print real solution\n",
    "        print(f\"x1 = ({sol1:.4e})\")\n",
    "        print(f\"x2 = ({sol2:.4e})\")\n",
    "    \n",
    "    else:\n",
    "        print(\"The solution is IMAGINARY and equal to:\")\n",
    "        #Computing imaginary solution\n",
    "        sol_real1 = ((-b + ((b**2) - (4*a*c))**(0.5))/(2*a)).real\n",
    "        sol_real2 = ((-b - ((b**2) - (4*a*c))**(0.5))/(2*a)).real    \n",
    "        sol_imaginary = (((b**2) - (4*a*c))**(0.5))/(2*a)\n",
    "    \n",
    "        #Print imaginary solution\n",
    "        print(f\"\\tx1 = ({sol_real1:.4e}) + i({sol_imaginary:.4e})\")\n",
    "        print(f\"x2 = ({sol_real2:.4e}) + i({sol_imaginary:.4e})\")\n",
    "    \n",
    "    loop = int(input(\"\\nDo you want to solve another equation?\\n\\t(1) Yes\\n\\t(2) No\\n\"))\n",
    "\n",
    "# Bye message\n",
    "print(\"\\nYou have finish using the quadratic Equation Program\\nThe program is now closing...\")"
   ]
  },
  {
   "cell_type": "markdown",
   "id": "166092e2-4100-4f53-af72-4267cae8c36f",
   "metadata": {},
   "source": [
    "## Version 3 - Functions"
   ]
  },
  {
   "cell_type": "markdown",
   "id": "e5b9a832-3889-40be-a000-569dde8dc899",
   "metadata": {},
   "source": [
    "### Add Functions"
   ]
  },
  {
   "cell_type": "code",
   "execution_count": 32,
   "id": "4995d456-012d-4793-9000-7187ac76825b",
   "metadata": {},
   "outputs": [],
   "source": [
    "def Welcome_Message():\n",
    "    print(\"This program calculate the solution to the Quadratic Equation: \\n\\tax^2 + bx + c = 0\")\n",
    "\n",
    "def Input_Parameters():\n",
    "    a = float(input(\"\\nInput the value for a: \"))\n",
    "    b = float(input(\"Input the value for b: \"))\n",
    "    c = float(input(\"Input the value for c: \"))\n",
    "    return a, b, c\n",
    "\n",
    "def Print_Equation(a,b,c):\n",
    "    print(\"\\nEquation to solve\")\n",
    "    print(f\"({a:.4e})x^2 + ({b:.4e})x + ({c:.4e}) = 0\\n\")\n",
    "\n",
    "def Real_Sol():\n",
    "    #Computing real solution\n",
    "    sol1 = (-b + (b**2 - (4*a*c))**(0.5))/(2*a)\n",
    "    sol2 = (-b - (b**2 - (4*a*c))**(0.5))/(2*a)\n",
    "    \n",
    "    #Print real solution\n",
    "    print(f\"x1 = ({sol1:.4e})\")\n",
    "    print(f\"x2 = ({sol2:.4e})\")\n",
    "\n",
    "def Imaginary_Sol():\n",
    "    #Computing imaginary solution\n",
    "    sol_real1 = ((-b + ((b**2) - (4*a*c))**(0.5))/(2*a)).real\n",
    "    sol_real2 = ((-b - ((b**2) - (4*a*c))**(0.5))/(2*a)).real    \n",
    "    sol_imaginary = abs((((b**2) - (4*a*c))**(0.5))/(2*a))\n",
    "    \n",
    "    #Print imaginary solution\n",
    "    print(f\"\\tx1 = ({sol_real1:.4e}) + i({sol_imaginary:.4e})\")\n",
    "    print(f\"\\tx2 = ({sol_real2:.4e}) - i({sol_imaginary:.4e})\")\n",
    "    "
   ]
  },
  {
   "cell_type": "markdown",
   "id": "f449533f-195f-4f51-ad91-c9a32997a792",
   "metadata": {},
   "source": [
    "### Add Classes"
   ]
  },
  {
   "cell_type": "code",
   "execution_count": 31,
   "id": "5d3e22ea-3a88-45c7-ac52-56cd0ab6e67e",
   "metadata": {},
   "outputs": [
    {
     "name": "stdout",
     "output_type": "stream",
     "text": [
      "This program calculate the solution to the Quadratic Equation: \n",
      "\tax^2 + bx + c = 0\n"
     ]
    },
    {
     "name": "stdin",
     "output_type": "stream",
     "text": [
      "\n",
      "Input the value for a:  1\n",
      "Input the value for b:  2\n",
      "Input the value for c:  3\n"
     ]
    },
    {
     "name": "stdout",
     "output_type": "stream",
     "text": [
      "\n",
      "Equation to solve\n",
      "(1.0000e+00)x^2 + (2.0000e+00)x + (3.0000e+00) = 0\n",
      "\n",
      "The solution is IMAGINARY and equal to:\n",
      "\tx1 = (-1.0000e+00) + i(8.6596e-17+1.4142e+00j)\n",
      "\tx2 = (-1.0000e+00) - i(8.6596e-17+1.4142e+00j)\n"
     ]
    },
    {
     "name": "stdin",
     "output_type": "stream",
     "text": [
      "\n",
      "Do you want to solve another equation?\n",
      "\t(1) Yes\n",
      "\t(2) No\n",
      " 2\n"
     ]
    },
    {
     "name": "stdout",
     "output_type": "stream",
     "text": [
      "\n",
      "You have finish using the quadratic Equation Program\n",
      "The program is now closing...\n"
     ]
    }
   ],
   "source": [
    "Welcome_Message()\n",
    "loop = 1\n",
    "\n",
    "while (loop==1):\n",
    "    \n",
    "    a, b, c = Input_Parameters()\n",
    "\n",
    "    Print_Equation(a,b,c)\n",
    "    \n",
    "    #Check if is real or imagianry\n",
    "    check = (b**2) - (4*a*c) #Discriminant\n",
    "    \n",
    "    if check > 0:\n",
    "        print(\"The solution is REAL and equal to:\")\n",
    "        Real_Sol()\n",
    "    \n",
    "    else:\n",
    "        print(\"The solution is IMAGINARY and equal to:\")\n",
    "        Imaginary_Sol()\n",
    "            \n",
    "    loop = int(input(\"\\nDo you want to solve another equation?\\n\\t(1) Yes\\n\\t(2) No\\n\"))\n",
    "\n",
    "# Bye message\n",
    "print(\"\\nYou have finish using the quadratic Equation Program\\nThe program is now closing...\")"
   ]
  },
  {
   "cell_type": "code",
   "execution_count": null,
   "id": "82e99347-e80e-46ab-a17c-1761f90c3a63",
   "metadata": {},
   "outputs": [],
   "source": []
  }
 ],
 "metadata": {
  "kernelspec": {
   "display_name": "Python [conda env:base] *",
   "language": "python",
   "name": "conda-base-py"
  },
  "language_info": {
   "codemirror_mode": {
    "name": "ipython",
    "version": 3
   },
   "file_extension": ".py",
   "mimetype": "text/x-python",
   "name": "python",
   "nbconvert_exporter": "python",
   "pygments_lexer": "ipython3",
   "version": "3.12.7"
  }
 },
 "nbformat": 4,
 "nbformat_minor": 5
}
